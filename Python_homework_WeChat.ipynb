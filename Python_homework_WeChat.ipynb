{
 "cells": [
  {
   "cell_type": "code",
   "execution_count": null,
   "metadata": {},
   "outputs": [],
   "source": [
    "\"\"\"\n",
    "用类封装3个功能\n",
    "wxpy: 用 Python 玩微信\n",
    "1.对于特定好友自动回复,文本和图片.\n",
    "2.封装一个统计微信中性别数量和总人数的比例,男生的比例,女的比例,未知性别比例\n",
    "3.统计你的好友都属于哪个省份并绘制直方图.\n",
    "\"\"\""
   ]
  },
  {
   "cell_type": "code",
   "execution_count": 2,
   "metadata": {},
   "outputs": [
    {
     "name": "stdout",
     "output_type": "stream",
     "text": [
      "█\r"
     ]
    },
    {
     "name": "stderr",
     "output_type": "stream",
     "text": [
      "Getting uuid of QR code.\n",
      "Downloading QR code.\n",
      "Please scan the QR code to log in.\n",
      "Please press confirm on your phone.\n",
      "Loading the contact, this may take a little while.\n",
      "Login successfully as 開汧吣伈\n"
     ]
    }
   ],
   "source": [
    "# 导入模块\n",
    "# -*- coding: utf-8 -*-\n",
    "import matplotlib.pyplot as plt\n",
    "from matplotlib.font_manager import FontProperties\n",
    "from wxpy import *\n",
    "# 初始化机器人，扫码登陆\n",
    "bot = Bot()"
   ]
  },
  {
   "cell_type": "code",
   "execution_count": 3,
   "metadata": {},
   "outputs": [
    {
     "name": "stdout",
     "output_type": "stream",
     "text": [
      "一共 325\n",
      "男人 176\n",
      "女人 127\n",
      "未知共： 22\n",
      "男生比例： 0.5415384615384615\n",
      "女生比例： 0.39076923076923076\n",
      "一共 325\n",
      "内蒙古 0.38153846153846155\n",
      "北京 0.043076923076923075\n",
      "山东 0.006153846153846154\n",
      "辽宁 0.04\n",
      "其他 0.5292307692307692\n"
     ]
    },
    {
     "data": {
      "image/png": "[encoded data removed]",
      "text/plain": [
       "<matplotlib.figure.Figure at 0x231d27dc438>"
      ]
     },
     "metadata": {},
     "output_type": "display_data"
    }
   ],
   "source": [
    "\n",
    "class weixin(object):\n",
    "    def __init__(self):\n",
    "        pass\n",
    "    def huifu(self):\n",
    "        my_friend = bot.friends().search('高阳', sex=MALE)[0]\n",
    "        #boring_group = bot.groups().search('建模小分队')[0]\n",
    "        @bot.register()\n",
    "        def just_print(msg):\n",
    "            # 打印消息\n",
    "            print(msg)\n",
    "        @bot.register([my_friend, Group], TEXT)\n",
    "        def auto_reply(msg):\n",
    "            # 如果是群聊，但没有被 @，则不回复\n",
    "            if isinstance(msg.chat, Group) and not msg.is_at:\n",
    "                return\n",
    "            else:\n",
    "                # 回复消息内容和类型\n",
    "                my_friend.send_image('wangzhe.jpg')  # 这条是回复图片 前提是当前目录必须有此jpg照片\n",
    "                return '收到消息: {} ({})'.format(msg.text, msg.type)\n",
    "        # @bot.register(boring_group)\n",
    "        # def ignore(msg):\n",
    "        #     # 啥也不做\n",
    "        #     return\n",
    "    def bili(self):\n",
    "        my_friend = bot.friends()\n",
    "        print(\"一共\",len(my_friend))\n",
    "        my_friend_1 = bot.friends().search(sex=1)\n",
    "        print(\"男人\",len(my_friend_1))\n",
    "        my_friend_2 = bot.friends().search(sex=2)\n",
    "        print(\"女人\",len(my_friend_2))\n",
    "        print(\"未知共：\",len(my_friend)-len(my_friend_1)-len(my_friend_2))\n",
    "\n",
    "        print(\"男生比例：\",len(my_friend_1)/len(my_friend))\n",
    "        print(\"女生比例：\",len(my_friend_2)/len(my_friend))\n",
    "    def shengfen(self):\n",
    "        my_friend = bot.friends()\n",
    "        print(\"一共\",len(my_friend))\n",
    "        self.my_friend=len(my_friend)\n",
    "        my_friend_city_1 = bot.friends().search(province='内蒙古')\n",
    "        my_friend_city_2 = bot.friends().search(province='北京')\n",
    "        my_friend_city_3 = bot.friends().search(province='山东')\n",
    "        my_friend_city_4 = bot.friends().search(province='辽宁')\n",
    "        self.my_friend_city_1=len(my_friend_city_1)\n",
    "        self.my_friend_city_2=len(my_friend_city_2)\n",
    "        self.my_friend_city_3=len(my_friend_city_3)\n",
    "        self.my_friend_city_4=len(my_friend_city_4)\n",
    "        self.r =self.my_friend-self.my_friend_city_1-self.my_friend_city_2-self.my_friend_city_3-self.my_friend_city_4\n",
    "        print(\"内蒙古\",len(my_friend_city_1)/len(my_friend))\n",
    "        print(\"北京\",len(my_friend_city_2)/len(my_friend))\n",
    "        print(\"山东\",len(my_friend_city_3)/len(my_friend))\n",
    "        print(\"辽宁\",len(my_friend_city_4)/len(my_friend))\n",
    "        print(\"其他\",1-len(my_friend_city_4)/len(my_friend)-\n",
    "              len(my_friend_city_3)/len(my_friend)-\n",
    "              len(my_friend_city_2)/len(my_friend)-\n",
    "              len(my_friend_city_1)/len(my_friend))\n",
    "    def huatu(self):\n",
    "        font = FontProperties(fname=r\"C:\\Windows\\Fonts\\simhei.ttf\", size=14)  \n",
    "        \n",
    "        plt.bar([\"NEIMENGGU\", \"BEIJING\", \"SHANDONG\", \"LIAONING\",\" OTHER\"],\n",
    "                [self.my_friend_city_1, self.my_friend_city_2,\n",
    "                 self.my_friend_city_3, self.my_friend_city_4,self.r], label=u'各地区人数')\n",
    "\n",
    "\n",
    "\n",
    "        # params\n",
    "\n",
    "        # x: 条形图x轴\n",
    "        # y：条形图的高度\n",
    "        # width：条形图的宽度 默认是0.8\n",
    "        # bottom：条形底部的y坐标值 默认是0\n",
    "        # align：center / edge 条形图是否以x轴坐标为中心点或者是以x轴坐标为边缘\n",
    "\n",
    "        plt.legend()\n",
    "\n",
    "        plt.xlabel('number')\n",
    "        plt.ylabel('value')\n",
    "\n",
    "        plt.title(u'按地区显示人数', FontProperties=font)\n",
    "\n",
    "        plt.show()\n",
    "w = weixin()\n",
    "w.huifu()\n",
    "w.bili()\n",
    "w.shengfen()\n",
    "w.huatu()"
   ]
  },
  {
   "cell_type": "code",
   "execution_count": null,
   "metadata": {},
   "outputs": [],
   "source": []
  },
  {
   "cell_type": "code",
   "execution_count": 4,
   "metadata": {},
   "outputs": [
    {
     "name": "stdout",
     "output_type": "stream",
     "text": [
      "100\n"
     ]
    }
   ],
   "source": [
    "class A(object):\n",
    "    @staticmethod\n",
    "    def is_valid(j):\n",
    "        print(j)\n",
    "        \n",
    "A.is_valid(100)"
   ]
  },
  {
   "cell_type": "code",
   "execution_count": 1,
   "metadata": {},
   "outputs": [
    {
     "name": "stdout",
     "output_type": "stream",
     "text": [
      "150\n"
     ]
    }
   ],
   "source": [
    "class A(object):\n",
    "    def __init__(self):\n",
    "        self.a=100\n",
    "        self.b=50\n",
    "    def SUN_(self):\n",
    "        return self.a+self.b\n",
    "class B(A):\n",
    "    def __init__(self):\n",
    "        A.__init__(self)\n",
    "    def pr(self):\n",
    "        print(self.SUN_())\n",
    "qwe=B()\n",
    "qwe.pr()"
   ]
  },
  {
   "cell_type": "code",
   "execution_count": null,
   "metadata": {},
   "outputs": [],
   "source": [
    "# 列表生成式\n",
    "\n",
    "a = (x for x in range(100000000000) if x % 2== 0)\n",
    "for i in range(100):\n",
    "    print(next(a))\n",
    "\"\"\"\n",
    "列表生成式\n",
    "\n",
    "# 列表生成式\n",
    "\n",
    "a = [x for x in range(100000000000) if x % 2== 0]\n",
    "优点: 计算速度快,因为一次性已经全部加载到内存中了,适合数据量不是太大的情况10000- 2000-\n",
    "缺点: 占用内存\n",
    "\n",
    "# 生成器\n",
    "\n",
    "a = (x for x in range(100000000000) if x % 2== 0)\n",
    "优点: 节约内存空间\n",
    "缺点: 计算速度慢,因为要生成.\n",
    "\"\"\"\n",
    "import os\n",
    "\n",
    "path = '/Users/joker/jokers/DataSet/stanford-dogs-dataset/Annotation'\n",
    "res = os.listdir(path)\n",
    "print(res)\n",
    "genter = (dir_ for dir_ in res)\n",
    "print(next(genter))\n",
    "\n",
    "# 装饰器\n",
    "\n",
    "def Joker(func):\n",
    "\n",
    "​    def warp(n1,n2,n3):\n",
    "\n",
    "​        num = n1 + n2\n",
    "\n",
    "​        return func(0,num,n3)\n",
    "\n",
    "​    return warp\n",
    "\n",
    "\n",
    "\n",
    "#*装饰器将前两个数字求和,函数本身第三个参数乘上这个和*\n",
    "\n",
    "@Joker\n",
    "\n",
    "def SUM(num1,num2,num3):\n",
    "\n",
    "​    print(num1,num2,num3)\n",
    "\n",
    "​    print(num2 * num3)\n",
    "\n",
    "\n",
    "\n",
    "SUM(10,2,3)"
   ]
  }
 ],
 "metadata": {
  "kernelspec": {
   "display_name": "Python 3",
   "language": "python",
   "name": "python3"
  },
  "language_info": {
   "codemirror_mode": {
    "name": "ipython",
    "version": 3
   },
   "file_extension": ".py",
   "mimetype": "text/x-python",
   "name": "python",
   "nbconvert_exporter": "python",
   "pygments_lexer": "ipython3",
   "version": "3.6.4"
  }
 },
 "nbformat": 4,
 "nbformat_minor": 2
}
