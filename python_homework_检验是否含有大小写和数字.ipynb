{
 "cells": [
  {
   "cell_type": "code",
   "execution_count": 26,
   "metadata": {},
   "outputs": [
    {
     "name": "stdout",
     "output_type": "stream",
     "text": [
      "注册成功\n"
     ]
    }
   ],
   "source": [
    "import re\n",
    "def A(func):\n",
    "    def B(text):\n",
    "        pattern = re.compile('[A-Z]+')\n",
    "        match_1 = pattern.findall(text)\n",
    "        pattern = re.compile('[0-9]+')\n",
    "        match_2 = pattern.findall(text)\n",
    "        pattern = re.compile('[a-z]+')\n",
    "        match_3 = pattern.findall(text)\n",
    "\n",
    "        if len(match_1)!=0 and len(match_2)!=0 and len(match_3)!=0:\n",
    "            return func(text)\n",
    "        else:\n",
    "            print(\"注册失败\")\n",
    "    return B\n",
    "@A\n",
    "def main(text):\n",
    "    print(\"注册成功\")\n",
    "\n",
    "main(\"qweQWE213\")"
   ]
  },
  {
   "cell_type": "code",
   "execution_count": 16,
   "metadata": {},
   "outputs": [
    {
     "name": "stdout",
     "output_type": "stream",
     "text": [
      "True\n",
      "True\n",
      "True\n",
      "检测通过\n"
     ]
    }
   ],
   "source": [
    "import re\n",
    "def checkContainUpper(pwd):\n",
    "    pattern = re.compile('[A-Z]+')\n",
    "    match = pattern.findall(pwd)\n",
    "    if match:\n",
    "        return True\n",
    "    else:\n",
    "        return False\n",
    "\n",
    "def checkContainNum(pwd):\n",
    "    pattern = re.compile('[0-9]+')\n",
    "    match = pattern.findall(pwd)\n",
    "    if match:\n",
    "        return True\n",
    "    else:\n",
    "        return False\n",
    "\n",
    "def checkContainLower(pwd):\n",
    "    pattern = re.compile('[a-z]+')\n",
    "    match = pattern.findall(pwd)\n",
    "\n",
    "    if match:\n",
    "        return True\n",
    "    else:\n",
    "        return False\n",
    "def checkPassword(pwd):\n",
    "    upperOK=checkContainUpper(pwd)#判断是否包含大写字母\n",
    "    lowerOK=checkContainLower(pwd)#判断是否包含小写字母\n",
    "    numOK=checkContainNum(pwd)#判断是否包含数字\n",
    "#     symbolOK=checkSymbol(pwd)#判断是否包含符号\n",
    "    print(upperOK)\n",
    "    print(lowerOK)\n",
    "    print(numOK)\n",
    "    return ( upperOK and lowerOK and numOK)\n",
    "\n",
    "\n",
    "def main():\n",
    "    if checkPassword('qweqwQWE12345'):\n",
    "        print('检测通过')\n",
    "    else:\n",
    "        print('检测未通过')\n",
    "\n",
    "\n",
    "if __name__ == '__main__':\n",
    "    main()"
   ]
  },
  {
   "cell_type": "code",
   "execution_count": 1,
   "metadata": {},
   "outputs": [
    {
     "data": {
      "text/plain": [
       "'\\n列表生成式\\na = [x for x in range(10000000) if x % 2==0]\\n优点：计算速度快，因为一次性全部\\n    加载到内存中，适合数据量不是太大的情况\\n缺点：占用内存\\n\\n#生成器\\na = (x for x in range(10000000) if x % 2==0)\\n优点：节约内存\\n缺点：计算速度慢\\n'"
      ]
     },
     "execution_count": 1,
     "metadata": {},
     "output_type": "execute_result"
    }
   ],
   "source": [
    "\"\"\"\n",
    "列表生成式\n",
    "a = [x for x in range(10000000) if x % 2==0]\n",
    "优点：计算速度快，因为一次性全部\n",
    "    加载到内存中，适合数据量不是太大的情况\n",
    "缺点：占用内存\n",
    "\n",
    "#生成器\n",
    "a = (x for x in range(10000000) if x % 2==0)\n",
    "优点：节约内存\n",
    "缺点：计算速度慢\n",
    "\"\"\""
   ]
  },
  {
   "cell_type": "code",
   "execution_count": 2,
   "metadata": {},
   "outputs": [
    {
     "name": "stdout",
     "output_type": "stream",
     "text": [
      "3\n",
      "1 2\n"
     ]
    }
   ],
   "source": [
    "def deco(func):\n",
    "    def warp(q,w):\n",
    "        e = q+w\n",
    "        print(e)\n",
    "        return func(q,w)\n",
    "    return warp\n",
    "@deco\n",
    "def hanshu(q,w):\n",
    "    print(q,w)\n",
    "hanshu(1,2)"
   ]
  },
  {
   "cell_type": "code",
   "execution_count": 2,
   "metadata": {},
   "outputs": [
    {
     "name": "stdout",
     "output_type": "stream",
     "text": [
      "0\n",
      "1\n"
     ]
    }
   ],
   "source": [
    "def A():\n",
    "    for i in range(10):\n",
    "        yield i  #将函数变成一个迭代器（生成器）\n",
    "        \n",
    "a = A()\n",
    "print(next(a))\n",
    "print(next(a))"
   ]
  },
  {
   "cell_type": "code",
   "execution_count": 95,
   "metadata": {},
   "outputs": [
    {
     "name": "stdout",
     "output_type": "stream",
     "text": [
      "0 1565319083\n",
      "页面详情\n",
      "1 1565319083\n",
      "页面详情\n",
      "2 1565319083\n",
      "页面详情\n",
      "3 1565319083\n",
      "页面详情\n",
      "4 1565319083\n",
      "页面详情\n",
      "404\n",
      "404\n",
      "404\n",
      "404\n",
      "404\n",
      "404\n",
      "404\n",
      "404\n",
      "404\n",
      "404\n",
      "404\n",
      "404\n",
      "404\n",
      "404\n",
      "404\n"
     ]
    }
   ],
   "source": [
    "import time\n",
    "def count(func):\n",
    "    def warp(*args,**kwargs):\n",
    "        w = time.time()\n",
    "        e = int(w)-kwargs['time']\n",
    "        if e < 5:\n",
    "            if kwargs['num'] <5:\n",
    "                return func(*args,**kwargs)\n",
    "            else:\n",
    "                print('404')\n",
    "                \n",
    "        else:\n",
    "            print('404')\n",
    "            \n",
    "    return warp\n",
    "\n",
    "@count\n",
    "def A(num,time):\n",
    "    print(\"页面详情\")\n",
    "\n",
    "if __name__ == '__main__':\n",
    "    \n",
    "    q = time.time()\n",
    "    q_=int(q)\n",
    "    for i in range(20):\n",
    "        time.sleep(0.5)\n",
    "        A(num=i,time=q_)"
   ]
  },
  {
   "cell_type": "code",
   "execution_count": null,
   "metadata": {},
   "outputs": [],
   "source": [
    "import time\n",
    "def count(func):\n",
    "    def warp(*args,**kwargs):\n",
    "        w = time.time()\n",
    "        e = int(w)-kwargs['time']\n",
    "        if e < 1 and kwargs['num']>4:\n",
    "            print(\"404\")\n",
    "        else:\n",
    "            return func(*args,**kwargs) \n",
    "            \n",
    "    return warp\n",
    "\n",
    "@count\n",
    "def A(num,time):\n",
    "    print(\"页面详情\")\n",
    "\n",
    "if __name__ == '__main__':\n",
    "    \n",
    "    q = time.time()\n",
    "    q_=int(q)\n",
    "    for i in range(20):\n",
    "        A(num=i,time=q_)"
   ]
  },
  {
   "cell_type": "code",
   "execution_count": 121,
   "metadata": {},
   "outputs": [
    {
     "name": "stdout",
     "output_type": "stream",
     "text": [
      "y M 1\n"
     ]
    }
   ],
   "source": [
    "import re\n",
    "b = re.compile(r'[abcdefghigklmnopqrstwvuxyz]')\n",
    "b_ = b.search('MyameisPeter').group()\n",
    "c = re.compile(r'[ABCDEFGHIGKLMNOPQRSTWVUXYZ]')\n",
    "c_ = c.search('MyameisPeter').group()\n",
    "d = re.compile('[0-9]+')\n",
    "d_ = d.search('qew1qwe').group()\n",
    "print(b_,c_,d_)"
   ]
  },
  {
   "cell_type": "code",
   "execution_count": 3,
   "metadata": {},
   "outputs": [
    {
     "name": "stdout",
     "output_type": "stream",
     "text": [
      "shurumimaqweQWE123\n",
      "q Q 123\n"
     ]
    }
   ],
   "source": [
    "import re\n",
    "def count(func):\n",
    "    def warp(*args,**kwargs):\n",
    "        qw = input(\"shurumima\")\n",
    "        b = re.compile(r'[abcdefghigklmnopqrstwvuxyz]')\n",
    "        b_ = b.search(qw).group()\n",
    "        c = re.compile(r'[ABCDEFGHIGKLMNOPQRSTWVUXYZ]')\n",
    "        c_ = c.search(qw).group()\n",
    "        d = re.compile('[0-9]+')\n",
    "        d_ = d.search(qw).group()\n",
    "        print(b_,c_,d_)\n",
    "        \n",
    "    return warp\n",
    "@count\n",
    "def A():\n",
    "    print(\"页面详情\")\n",
    "A()"
   ]
  }
 ],
 "metadata": {
  "kernelspec": {
   "display_name": "Python 3",
   "language": "python",
   "name": "python3"
  },
  "language_info": {
   "codemirror_mode": {
    "name": "ipython",
    "version": 3
   },
   "file_extension": ".py",
   "mimetype": "text/x-python",
   "name": "python",
   "nbconvert_exporter": "python",
   "pygments_lexer": "ipython3",
   "version": "3.6.4"
  }
 },
 "nbformat": 4,
 "nbformat_minor": 2
}
