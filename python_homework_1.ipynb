{
 "cells": [
  {
   "cell_type": "code",
   "execution_count": 1,
   "metadata": {},
   "outputs": [
    {
     "name": "stdout",
     "output_type": "stream",
     "text": [
      "######6% \r"
     ]
    },
    {
     "ename": "KeyboardInterrupt",
     "evalue": "",
     "output_type": "error",
     "traceback": [
      "\u001b[1;31m---------------------------------------------------------------------------\u001b[0m",
      "\u001b[1;31mKeyboardInterrupt\u001b[0m                         Traceback (most recent call last)",
      "\u001b[1;32m<ipython-input-1-8a3899d21cd1>\u001b[0m in \u001b[0;36m<module>\u001b[1;34m()\u001b[0m\n\u001b[0;32m      4\u001b[0m         \u001b[0mtime\u001b[0m\u001b[1;33m.\u001b[0m\u001b[0msleep\u001b[0m\u001b[1;33m(\u001b[0m\u001b[1;36m1\u001b[0m\u001b[1;33m)\u001b[0m\u001b[1;33m;\u001b[0m\u001b[1;33m\u001b[0m\u001b[0m\n\u001b[0;32m      5\u001b[0m         \u001b[0mprint\u001b[0m\u001b[1;33m(\u001b[0m\u001b[1;34m'%s%d%% \\r'\u001b[0m\u001b[1;33m%\u001b[0m\u001b[1;33m(\u001b[0m\u001b[1;34m'#'\u001b[0m\u001b[1;33m*\u001b[0m\u001b[0mi\u001b[0m\u001b[1;33m,\u001b[0m\u001b[0mi\u001b[0m\u001b[1;33m)\u001b[0m\u001b[1;33m,\u001b[0m\u001b[0mend\u001b[0m\u001b[1;33m=\u001b[0m\u001b[1;34m\"\"\u001b[0m\u001b[1;33m,\u001b[0m\u001b[0mflush\u001b[0m\u001b[1;33m=\u001b[0m\u001b[1;32mTrue\u001b[0m\u001b[1;33m)\u001b[0m\u001b[1;33m\u001b[0m\u001b[0m\n\u001b[1;32m----> 6\u001b[1;33m \u001b[0mq\u001b[0m\u001b[1;33m(\u001b[0m\u001b[1;33m)\u001b[0m\u001b[1;33m\u001b[0m\u001b[0m\n\u001b[0m",
      "\u001b[1;32m<ipython-input-1-8a3899d21cd1>\u001b[0m in \u001b[0;36mq\u001b[1;34m()\u001b[0m\n\u001b[0;32m      2\u001b[0m \u001b[1;32mdef\u001b[0m \u001b[0mq\u001b[0m\u001b[1;33m(\u001b[0m\u001b[1;33m)\u001b[0m\u001b[1;33m:\u001b[0m\u001b[1;33m\u001b[0m\u001b[0m\n\u001b[0;32m      3\u001b[0m     \u001b[1;32mfor\u001b[0m \u001b[0mi\u001b[0m \u001b[1;32min\u001b[0m \u001b[0mrange\u001b[0m\u001b[1;33m(\u001b[0m\u001b[1;36m1\u001b[0m\u001b[1;33m,\u001b[0m\u001b[1;36m101\u001b[0m\u001b[1;33m)\u001b[0m\u001b[1;33m:\u001b[0m\u001b[1;33m\u001b[0m\u001b[0m\n\u001b[1;32m----> 4\u001b[1;33m         \u001b[0mtime\u001b[0m\u001b[1;33m.\u001b[0m\u001b[0msleep\u001b[0m\u001b[1;33m(\u001b[0m\u001b[1;36m1\u001b[0m\u001b[1;33m)\u001b[0m\u001b[1;33m;\u001b[0m\u001b[1;33m\u001b[0m\u001b[0m\n\u001b[0m\u001b[0;32m      5\u001b[0m         \u001b[0mprint\u001b[0m\u001b[1;33m(\u001b[0m\u001b[1;34m'%s%d%% \\r'\u001b[0m\u001b[1;33m%\u001b[0m\u001b[1;33m(\u001b[0m\u001b[1;34m'#'\u001b[0m\u001b[1;33m*\u001b[0m\u001b[0mi\u001b[0m\u001b[1;33m,\u001b[0m\u001b[0mi\u001b[0m\u001b[1;33m)\u001b[0m\u001b[1;33m,\u001b[0m\u001b[0mend\u001b[0m\u001b[1;33m=\u001b[0m\u001b[1;34m\"\"\u001b[0m\u001b[1;33m,\u001b[0m\u001b[0mflush\u001b[0m\u001b[1;33m=\u001b[0m\u001b[1;32mTrue\u001b[0m\u001b[1;33m)\u001b[0m\u001b[1;33m\u001b[0m\u001b[0m\n\u001b[0;32m      6\u001b[0m \u001b[0mq\u001b[0m\u001b[1;33m(\u001b[0m\u001b[1;33m)\u001b[0m\u001b[1;33m\u001b[0m\u001b[0m\n",
      "\u001b[1;31mKeyboardInterrupt\u001b[0m: "
     ]
    }
   ],
   "source": [
    "import time\n",
    "def q():\n",
    "    for i in range(1,101):\n",
    "        time.sleep(1);\n",
    "        print('%s%d%% \\r'%('#'*i,i),end=\"\",flush=True)\n",
    "q()"
   ]
  },
  {
   "cell_type": "code",
   "execution_count": 32,
   "metadata": {},
   "outputs": [],
   "source": [
    "#object 不是一个参数\n",
    "class Student(object):\n",
    "    def __init__(self,a,b):\n",
    "        print('a-b=',a-b);\n",
    "        print('a+b=',a+b);\n",
    "        print('a*b=',a*b);\n",
    "        print('a/b=',a/b);\n",
    "        print('a%b=',a%b);\n",
    "        print('a//b=',a//b);\n",
    "        print('a的平方是',a*a);\n",
    "        print('b的平方是',b*b);"
   ]
  },
  {
   "cell_type": "code",
   "execution_count": 33,
   "metadata": {},
   "outputs": [
    {
     "name": "stdout",
     "output_type": "stream",
     "text": [
      "a-b= 5\n",
      "a+b= 15\n",
      "a*b= 50\n",
      "a/b= 2.0\n",
      "a%b= 0\n",
      "a//b= 2\n",
      "a的平方是 100\n",
      "b的平方是 25\n"
     ]
    },
    {
     "data": {
      "text/plain": [
       "<__main__.Student at 0x234270dd5f8>"
      ]
     },
     "execution_count": 33,
     "metadata": {},
     "output_type": "execute_result"
    }
   ],
   "source": [
    "Student(10,5)"
   ]
  },
  {
   "cell_type": "code",
   "execution_count": 47,
   "metadata": {},
   "outputs": [
    {
     "name": "stdout",
     "output_type": "stream",
     "text": [
      "你只能观看动画片\n"
     ]
    },
    {
     "data": {
      "text/plain": [
       "<__main__.asd at 0x23427102240>"
      ]
     },
     "execution_count": 47,
     "metadata": {},
     "output_type": "execute_result"
    }
   ],
   "source": [
    "class asd(object):\n",
    "    def __init__(self,a):\n",
    "        if(a>50):\n",
    "            print(\"别看了，扛不住的\")\n",
    "        elif(a>20):\n",
    "            print(\"岛国\")\n",
    "        elif(a>18):\n",
    "            print(\"只能观看四级\")\n",
    "        else:\n",
    "            print(\"你只能观看动画片\")\n",
    "            \n",
    "asd(16)"
   ]
  },
  {
   "cell_type": "code",
   "execution_count": 51,
   "metadata": {},
   "outputs": [
    {
     "name": "stdout",
     "output_type": "stream",
     "text": [
      "中年\n",
      "女人\n"
     ]
    }
   ],
   "source": [
    "class Name(object):\n",
    "    def __init__(self,a,b):\n",
    "        self.a=a\n",
    "        self.b=b\n",
    "    def func1(self):\n",
    "        if self.a>40:\n",
    "            print(\"老年\")\n",
    "        elif self.a>18:\n",
    "            print(\"中年\")\n",
    "        else:\n",
    "            print(\"青年\")\n",
    "    def func2(self):\n",
    "        if self.b == \"男\":\n",
    "            print(\"男人\")\n",
    "        elif self.b == \"女\":\n",
    "            print(\"女人\")\n",
    "        else:\n",
    "            print(\"不知道你是什么玩意儿\")\n",
    "name = Name(25,\"女\")\n",
    "name.func1()\n",
    "name.func2()"
   ]
  },
  {
   "cell_type": "code",
   "execution_count": null,
   "metadata": {},
   "outputs": [],
   "source": [
    "class A(object):\n",
    "    def __init__(self,a):\n",
    "        self.a=a\n",
    "    def B(self,b):\n",
    "        "
   ]
  },
  {
   "cell_type": "code",
   "execution_count": null,
   "metadata": {},
   "outputs": [],
   "source": [
    "import time\n",
    "def q():\n",
    "    for i in range(1,101):\n",
    "        time.sleep(1);\n",
    "        print('%s%d%% \\r'%('#'*i,i),end=\"\",flush=True)\n",
    "q()"
   ]
  },
  {
   "cell_type": "code",
   "execution_count": 117,
   "metadata": {},
   "outputs": [],
   "source": [
    "import time\n",
    "class Time(object):\n",
    "    def __init__(self):\n",
    "        self.time=time\n",
    "    def shuzi(self):\n",
    "        for i in range(1,100):\n",
    "            i=i+1\n",
    "            if i<100:\n",
    "                time.sleep(1)\n",
    "                now = time.localtime()  # 返回服务器时间\n",
    "                print(time.strftime(\"%H:%M:%S \\r\", now),end=\"\",flush=True)\n",
    "                if time.strftime(\"%H:%M:%S\", now)=='15:05:00':\n",
    "                    print(\"闹钟响了！！! \")\n",
    "                else:\n",
    "                    pass"
   ]
  },
  {
   "cell_type": "code",
   "execution_count": 118,
   "metadata": {},
   "outputs": [
    {
     "name": "stdout",
     "output_type": "stream",
     "text": [
      "闹钟响了！！!  \n",
      "15:06:01 \r"
     ]
    }
   ],
   "source": [
    "Time().shuzi()"
   ]
  },
  {
   "cell_type": "code",
   "execution_count": 124,
   "metadata": {},
   "outputs": [
    {
     "name": "stdout",
     "output_type": "stream",
     "text": [
      "是素数\n"
     ]
    }
   ],
   "source": [
    "class A(object):\n",
    "    def __init__(self,a):\n",
    "        self.a=a\n",
    "    def B(self):\n",
    "        m=2\n",
    "        for i in range(2,self.a):\n",
    "            m=m+1\n",
    "            if self.a%i==0:\n",
    "                print(\"不是素数\")\n",
    "                break\n",
    "            if m == self.a:\n",
    "                print(\"是素数\")\n",
    "                \n",
    "qwe=A(11)\n",
    "qwe.B()"
   ]
  },
  {
   "cell_type": "code",
   "execution_count": 125,
   "metadata": {},
   "outputs": [
    {
     "name": "stdout",
     "output_type": "stream",
     "text": [
      "输入qwe\n",
      "qwe <class 'str'>\n"
     ]
    }
   ],
   "source": [
    "res = input('输入')\n",
    "print(res,type(res))"
   ]
  },
  {
   "cell_type": "code",
   "execution_count": 134,
   "metadata": {},
   "outputs": [],
   "source": [
    "import numpy as np\n",
    "res = np.random.choice(['典韦','赵云','鲁班'])"
   ]
  },
  {
   "cell_type": "code",
   "execution_count": 157,
   "metadata": {},
   "outputs": [
    {
     "name": "stdout",
     "output_type": "stream",
     "text": [
      "请选择人机或者多人对战！\n",
      "输入多人\n",
      "您选的是 多人\n",
      "请从典韦、赵云、鲁班中挑选一个人物！\n",
      "输入典韦\n",
      "您选的是 典韦\n",
      "您选择的典韦战力为10000，防御力为5000\n",
      "您的人物以确定，现在系统随机为您生成对战玩家\n",
      "您的对手为 赵云\n",
      "请输入开始\n",
      "输入开始\n",
      "输入正确\n",
      "正在加载，请耐心等待！\n"
     ]
    }
   ],
   "source": [
    "import numpy as np\n",
    "class Wangzhe(object):\n",
    "    def __init__(self):\n",
    "        pass\n",
    "    def renji(self):\n",
    "        print('请选择人机或者多人对战！')\n",
    "        res = input('输入')\n",
    "        print(\"您选的是\",res)\n",
    "        self.res=res\n",
    "    def tiaoxuan(self):\n",
    "        print('请从典韦、赵云、鲁班中挑选一个人物！')\n",
    "        ren = input('输入')\n",
    "        print(\"您选的是\",ren)\n",
    "        self.ren=ren\n",
    "    def xianshizhanli(self):\n",
    "        if self.ren == '典韦':\n",
    "            print(\"您选择的典韦战力为10000，防御力为5000\")\n",
    "        elif self.ren == '赵云':\n",
    "            print(\"您选择的赵云战力为20000，防御力为2000\")\n",
    "        else:\n",
    "            print(\"您选择的鲁班战力为15000，防御力为3500\")\n",
    "    def renwuqueding(self):\n",
    "        print(\"您的人物以确定，现在系统随机为您生成对战玩家\")\n",
    "        q = np.random.choice(['典韦','赵云','鲁班'])\n",
    "        print('您的对手为',q)\n",
    "    def kaishi(self):\n",
    "        print(\"请输入开始\")\n",
    "        w = input('输入')\n",
    "        if w == \"开始\":\n",
    "            print(\"输入正确\")\n",
    "        else:\n",
    "            print(\"输入有误！\")\n",
    "    def jiazai(self):\n",
    "        print('正在加载，请耐心等待！')\n",
    "    \n",
    "qwe = Wangzhe()\n",
    "qwe.renji()\n",
    "qwe.tiaoxuan()\n",
    "qwe.xianshizhanli()\n",
    "qwe.renwuqueding()\n",
    "qwe.kaishi()\n",
    "qwe.jiazai()"
   ]
  },
  {
   "cell_type": "code",
   "execution_count": 156,
   "metadata": {},
   "outputs": [
    {
     "name": "stdout",
     "output_type": "stream",
     "text": [
      "1.0 5.0 12.0 22.0 35.0 51.0 70.0 92.0 117.0 145.0\n",
      "176.0 210.0 247.0 287.0 330.0 376.0 425.0 477.0 532.0 590.0\n",
      "651.0 715.0 782.0 852.0 925.0 1001.0 1080.0 1162.0 1247.0 1335.0\n",
      "1426.0 1520.0 1617.0 1717.0 1820.0 1926.0 2035.0 2147.0 2262.0 2380.0\n",
      "2501.0 2625.0 2752.0 2882.0 3015.0 3151.0 3290.0 3432.0 3577.0 3725.0\n",
      "3876.0 4030.0 4187.0 4347.0 4510.0 4676.0 4845.0 5017.0 5192.0 5370.0\n",
      "5551.0 5735.0 5922.0 6112.0 6305.0 6501.0 6700.0 6902.0 7107.0 7315.0\n",
      "7526.0 7740.0 7957.0 8177.0 8400.0 8626.0 8855.0 9087.0 9322.0 9560.0\n",
      "9801.0 10045.0 10292.0 10542.0 10795.0 11051.0 11310.0 11572.0 11837.0 12105.0\n",
      "12376.0 12650.0 12927.0 13207.0 13490.0 13776.0 14065.0 14357.0 14652.0 14950.0\n"
     ]
    }
   ],
   "source": [
    "\"\"\"\n",
    "1/一个五角数被定义为n(3n-1)/2,编写一个测试程序使用这个函数显示前100个五角数，\n",
    "每行显示10个\n",
    "\"\"\"\n",
    "def getPentagonalNumber(n):\n",
    "    c = n*(3*n-1)/2\n",
    "    if n%10 !=0:\n",
    "        print(c,end=' ')\n",
    "    else:\n",
    "        print(c)\n",
    "        \n",
    "for i in range(1,101):\n",
    "    getPentagonalNumber(i)"
   ]
  },
  {
   "cell_type": "code",
   "execution_count": 172,
   "metadata": {},
   "outputs": [
    {
     "name": "stdout",
     "output_type": "stream",
     "text": [
      "39\n"
     ]
    }
   ],
   "source": [
    "\"\"\"\n",
    "2/计算一个整数各个数字的和\n",
    "\"\"\"\n",
    "def sumDigits(n):\n",
    "    a=n\n",
    "    w=0\n",
    "    for i in range(0,len(str(a))):\n",
    "        if i<len(str(a)):\n",
    "            q = n%10\n",
    "            n = n//10\n",
    "        w = w + q\n",
    "    print(w)\n",
    "sumDigits(456789)"
   ]
  },
  {
   "cell_type": "code",
   "execution_count": 174,
   "metadata": {},
   "outputs": [
    {
     "name": "stdout",
     "output_type": "stream",
     "text": [
      "Enter three number: 89 42 2\n",
      "The sorted number are 2 42 89\n"
     ]
    }
   ],
   "source": [
    "\"\"\"\n",
    "3/提醒用户输入三个整数，然后调用函数按升序显示三个数\n",
    "\"\"\"\n",
    "def desplaySortedNumbers(num1,num2,num3):\n",
    "    print(\"Enter three number:\",num1,num2,num3)\n",
    "    if num1>num2 and num1>num3:\n",
    "        if num2 > num3:\n",
    "            print(\"The sorted number are\",num3,num2,num1)\n",
    "        else:\n",
    "            print(\"The sorted number are\",num2,num3,num1)\n",
    "    elif num2>num1 and num2>num3:\n",
    "        if num1 > num3:\n",
    "            print(\"The sorted number are\",num3,num1,num2)\n",
    "        else:\n",
    "            print(\"The sorted number are\",num1,num3,num2)\n",
    "    elif num3>num1 and num3>num2:\n",
    "        if num1 > num2:\n",
    "            print(\"The sorted number are\",num2,num1,num3)\n",
    "        else:\n",
    "            print(\"The sorted number are\",num1,num2,num3)\n",
    "\n",
    "desplaySortedNumbers(89,42,2)"
   ]
  },
  {
   "cell_type": "code",
   "execution_count": 181,
   "metadata": {},
   "outputs": [
    {
     "name": "stdout",
     "output_type": "stream",
     "text": [
      "1 10900.0\n",
      "2 11881.0\n",
      "3 12950.29\n",
      "4 14115.8161\n",
      "5 15386.239549\n",
      "6 16771.00110841\n",
      "7 18280.3912081669\n",
      "8 19925.62641690192\n",
      "9 21718.932794423094\n",
      "10 23673.636745921172\n",
      "11 25804.264053054078\n",
      "12 28126.647817828944\n",
      "13 30658.04612143355\n",
      "14 33417.27027236257\n",
      "15 36424.8245968752\n",
      "16 39703.05881059397\n",
      "17 43276.33410354742\n",
      "18 47171.20417286669\n",
      "19 51416.61254842469\n",
      "20 56044.10767778291\n",
      "21 61088.07736878337\n",
      "22 66586.00433197388\n",
      "23 72578.74472185153\n",
      "24 79110.83174681816\n",
      "25 86230.8066040318\n",
      "26 93991.57919839465\n",
      "27 102450.82132625018\n",
      "28 111671.3952456127\n",
      "29 121721.82081771785\n",
      "30 132676.78469131247\n"
     ]
    }
   ],
   "source": [
    "\"\"\"\n",
    "4/ 编写一个程序提示用户输入投资额和百分比格式的年利率，然后输出一份表格显示\n",
    "年份从1到30年的未来值。\n",
    "\"\"\"\n",
    "def futureInvestmentValue(benjin,lilv,years):\n",
    "    years = years+1\n",
    "    for i in range(1,years):\n",
    "        shouyi = benjin + benjin*lilv\n",
    "        print(i,shouyi)\n",
    "        benjin=shouyi\n",
    "futureInvestmentValue(10000,0.09,30)"
   ]
  },
  {
   "cell_type": "code",
   "execution_count": 198,
   "metadata": {},
   "outputs": [
    {
     "name": "stdout",
     "output_type": "stream",
     "text": [
      "2  3  4  5  6  7  8  9  :  ;\n",
      "<  =  >  ?  @  A  B  C  D  E\n",
      "F  G  H  I  J  K  L  M  N  O\n",
      "P  Q  R  S  T  U  V  W  X  Y\n"
     ]
    }
   ],
   "source": [
    "\"\"\"\n",
    "5、打印ch1到ch2之间的字符，按每行指定某个数来打印。\n",
    "编写一个测试程序，打印“1”到“Z”的字符，每行打印10个\n",
    "\"\"\"\n",
    "def printChars(ch1,ch2,num):\n",
    "    q=ord(ch1)+1\n",
    "    w=ord(ch2)\n",
    "    n=0\n",
    "    for i in range(q,w):\n",
    "        n=n+1\n",
    "        if n%num !=0:\n",
    "            print(chr(i),end='  ')\n",
    "        else:\n",
    "            print(chr(i))\n",
    "        \n",
    "printChars('1','Z',10)"
   ]
  },
  {
   "cell_type": "code",
   "execution_count": 209,
   "metadata": {},
   "outputs": [
    {
     "name": "stdout",
     "output_type": "stream",
     "text": [
      "2010 365天\n",
      "2011 365天\n",
      "2012 366天\n",
      "2013 365天\n",
      "2014 365天\n",
      "2015 365天\n",
      "2016 366天\n",
      "2017 365天\n",
      "2018 365天\n",
      "2019 365天\n",
      "2020 366天\n"
     ]
    }
   ],
   "source": [
    "\"\"\"\n",
    "6、编写一个程序测试，显示从2010年到2020年每年的天数\n",
    "\"\"\"\n",
    "def numberOfDaysInAYrea(year):\n",
    "    if year%100==0:\n",
    "        if year%400==0:\n",
    "            print(year,\"366天\")\n",
    "        else:\n",
    "            print(year,\"365天\")\n",
    "    elif year%4==0:\n",
    "        print(year,\"366天\")\n",
    "    else:\n",
    "        print(year,\"365天\")\n",
    "\n",
    "for year in range(2010,2021):\n",
    "    numberOfDaysInAYrea(year)"
   ]
  },
  {
   "cell_type": "code",
   "execution_count": 208,
   "metadata": {},
   "outputs": [
    {
     "name": "stdout",
     "output_type": "stream",
     "text": [
      "两点间距离为： 2.8284271247461903\n"
     ]
    }
   ],
   "source": [
    "\"\"\"\n",
    "7、计算两点间距离\n",
    "\"\"\"\n",
    "import math\n",
    "def distance(x1,y1,x2,y2):\n",
    "    q=(x1-x2)**2\n",
    "    w=(y1-y2)**2\n",
    "    e=q+w\n",
    "    dis= math.sqrt(e)\n",
    "    print(\"两点间距离为：\",dis)\n",
    "    \n",
    "distance(1,2,3,4)"
   ]
  },
  {
   "cell_type": "code",
   "execution_count": 222,
   "metadata": {},
   "outputs": [
    {
     "name": "stdout",
     "output_type": "stream",
     "text": [
      "2 3\n",
      "3 7\n",
      "5 31\n",
      "7 127\n",
      "11 2047\n",
      "13 8191\n",
      "17 131071\n",
      "19 524287\n",
      "23 8388607\n",
      "29 536870911\n",
      "31 2147483647\n"
     ]
    }
   ],
   "source": [
    "\"\"\"\n",
    "8、如果一个素数可以写成2**（P-1）的形式，其中p是某个正整数，\n",
    "    那么这个数就被称作梅森素数。编写程序找出p<=31的梅森素数。\n",
    "\"\"\"\n",
    "def meisen(p):\n",
    "    q=pow(2,p)-1\n",
    "    m=2\n",
    "    if p==2:\n",
    "        print(p,q)\n",
    "    for i in range(2,p):\n",
    "        m=m+1\n",
    "        if p%i==0:\n",
    "            break\n",
    "        if m == p:\n",
    "            print(p,q)\n",
    "            \n",
    "for p in range(1,32):\n",
    "    meisen(p)"
   ]
  },
  {
   "cell_type": "code",
   "execution_count": 244,
   "metadata": {},
   "outputs": [
    {
     "name": "stdout",
     "output_type": "stream",
     "text": [
      "1565091029.542035\n",
      "Cuurrent date and time is 2019 年 8 月 6 日 19 : 30 : 29\n"
     ]
    }
   ],
   "source": [
    "\"\"\"\n",
    "9、调用time.time()返回1970年1月1日0点开始的毫秒数。\n",
    "\"\"\"\n",
    "import time\n",
    "print(time.time())\n",
    "\"\"\"\n",
    " time.localtime(time.time())输出结果为\n",
    " time.struct_time(tm_year=2019, tm_mon=8, \n",
    " tm_mday=6, tm_hour=19, tm_min=21, tm_sec=46, \n",
    " tm_wday=1, tm_yday=218, tm_isdst=0)\n",
    "\"\"\"\n",
    "time = time.localtime(time.time())\n",
    "print(\"Cuurrent date and time is\",time.tm_year,\"年\",\n",
    "      time.tm_mon,\"月\",time.tm_mday,\"日\",\n",
    "      time.tm_hour,\":\",time.tm_min,\":\",time.tm_sec)"
   ]
  },
  {
   "cell_type": "code",
   "execution_count": 264,
   "metadata": {},
   "outputs": [
    {
     "name": "stdout",
     "output_type": "stream",
     "text": [
      "您第一次抛出的点数为: 3\n",
      "您第二次抛出的点数为: 5\n",
      "您抛出的两次点数之和为： 8\n",
      "您第一次抛出的点数为: 4\n",
      "您第二次抛出的点数为: 3\n",
      "您抛出的两次点数之和为： 7\n",
      "你赢了！！！\n"
     ]
    }
   ],
   "source": [
    "\"\"\"\n",
    "10、投色子。\n",
    "\"\"\"\n",
    "import numpy as np\n",
    "def dianshu():\n",
    "    res1 = np.random.choice([1,2,3,4,5,6])\n",
    "    print(\"您第一次抛出的点数为:\",res1)\n",
    "    res2 = np.random.choice([1,2,3,4,5,6])\n",
    "    print(\"您第二次抛出的点数为:\",res2)\n",
    "    res = res1 + res2\n",
    "    print(\"您抛出的两次点数之和为：\",res)\n",
    "    return res\n",
    "res = dianshu()\n",
    "if res==2 or res==3 or res==12:\n",
    "    print(\"你输了！！！\")\n",
    "elif res==7 or res==11:\n",
    "    print(\"你赢了！！！\")\n",
    "else:\n",
    "    res3 = res\n",
    "    res = dianshu()\n",
    "    if res ==7 or res == res3:\n",
    "        print(\"你赢了！！！\")\n",
    "    else:\n",
    "        print(\"请开始下一局！\")"
   ]
  },
  {
   "cell_type": "code",
   "execution_count": null,
   "metadata": {},
   "outputs": [],
   "source": []
  },
  {
   "cell_type": "code",
   "execution_count": null,
   "metadata": {},
   "outputs": [],
   "source": []
  },
  {
   "cell_type": "code",
   "execution_count": null,
   "metadata": {},
   "outputs": [],
   "source": []
  }
 ],
 "metadata": {
  "kernelspec": {
   "display_name": "Python 3",
   "language": "python",
   "name": "python3"
  },
  "language_info": {
   "codemirror_mode": {
    "name": "ipython",
    "version": 3
   },
   "file_extension": ".py",
   "mimetype": "text/x-python",
   "name": "python",
   "nbconvert_exporter": "python",
   "pygments_lexer": "ipython3",
   "version": "3.6.4"
  }
 },
 "nbformat": 4,
 "nbformat_minor": 2
}
