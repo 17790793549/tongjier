{
 "cells": [
  {
   "cell_type": "code",
   "execution_count": 4,
   "metadata": {},
   "outputs": [],
   "source": [
    "from lxml import etree"
   ]
  },
  {
   "cell_type": "code",
   "execution_count": 2,
   "metadata": {},
   "outputs": [],
   "source": [
    "html = '''\n",
    "<xml version=\"1.0\" encoding=\"ISO-8859-1\"?>\n",
    "\n",
    "<bookstore>\n",
    "\n",
    "<book>\n",
    "  <title lang=\"engg\">Harry Potter</title>\n",
    "  <price>29.99</price>\n",
    "</book>\n",
    "\n",
    "<book>\n",
    "  <title lang=\"eng\">Learning XML</title>\n",
    "  <price>39.95</price>\n",
    "</book>\n",
    "\n",
    "</bookstore>\n",
    "'''\n"
   ]
  },
  {
   "cell_type": "code",
   "execution_count": 3,
   "metadata": {},
   "outputs": [],
   "source": [
    "tree = etree.HTML(html)"
   ]
  },
  {
   "cell_type": "markdown",
   "metadata": {},
   "source": [
    "XPATH语法\n",
    "\n",
    "一层一层往下挖模式\n",
    "\n",
    "- '/'\t从根节点选取\n",
    "  '//'\t从匹配选择的当前节点选择文档中的节点，而不考虑它们的位置 **\n",
    "   '.'\t选取当前节点 **\n",
    "   '..'\t选取当前节点的父节点\n",
    "- '@'   提取属性和控制属性 ** \n",
    "- '[]'  属性容器\n",
    "  '*'\t匹配任何元素节点\n",
    "\n",
    "- text() 以文本的方式返回提取的内容 **\n"
   ]
  },
  {
   "cell_type": "code",
   "execution_count": 34,
   "metadata": {},
   "outputs": [
    {
     "data": {
      "text/plain": [
       "['Harry Potter']"
      ]
     },
     "execution_count": 34,
     "metadata": {},
     "output_type": "execute_result"
    }
   ],
   "source": [
    "tree.xpath('//bookstore/book/title[@lang=\"engg\"]/text()')"
   ]
  },
  {
   "cell_type": "code",
   "execution_count": 8,
   "metadata": {},
   "outputs": [],
   "source": [
    "html = '''\n",
    "<xml version=\"1.0\" encoding=\"ISO-8859-1\"?>\n",
    "\n",
    "<bookstore>\n",
    "<div class=\"hahah\">女朋友</div>\n",
    "<book>\n",
    "  <title lang=\"eng\">Harry Potter</title>\n",
    "  <price>29.99</price>\n",
    "</book>\n",
    "\n",
    "<book>\n",
    "  <title lang=\"eng\">Learning XML</title>\n",
    "  <price>39.95</price>\n",
    "</book>\n",
    "\n",
    "</bookstore>\n",
    "'''"
   ]
  },
  {
   "cell_type": "code",
   "execution_count": 9,
   "metadata": {},
   "outputs": [],
   "source": [
    "tree = etree.HTML(html)"
   ]
  },
  {
   "cell_type": "code",
   "execution_count": 10,
   "metadata": {},
   "outputs": [
    {
     "data": {
      "text/plain": [
       "['Harry Potter']"
      ]
     },
     "execution_count": 10,
     "metadata": {},
     "output_type": "execute_result"
    }
   ],
   "source": [
    "tree.xpath('//book[1]/title/text()')"
   ]
  },
  {
   "cell_type": "code",
   "execution_count": 11,
   "metadata": {},
   "outputs": [
    {
     "data": {
      "text/plain": [
       "['女朋友']"
      ]
     },
     "execution_count": 11,
     "metadata": {},
     "output_type": "execute_result"
    }
   ],
   "source": [
    "tree.xpath('//div/text()')"
   ]
  },
  {
   "cell_type": "code",
   "execution_count": 25,
   "metadata": {},
   "outputs": [],
   "source": [
    "html = '''\n",
    "<xml version=\"1.0\" encoding=\"ISO-8859-1\">\n",
    "\n",
    "<bookstore>\n",
    "<div class=\"hahah\">女朋友</div>\n",
    "<book>\n",
    "  <p>计欣茹生日快乐</p >\n",
    "  <title lang=\"eng\">计欣茹早日找到男朋友</title>\n",
    "  <div class=\"hahah\">男朋友</div>\n",
    "  <price>29.99</price>\n",
    "  <a href=\"www.baidu.com\"></a>\n",
    "  <a href=\"www.baidu2.com\"></a>\n",
    "</book>\n",
    "\n",
    "<book>\n",
    "  <title lang=\"eng\">计欣茹早日结婚</title>\n",
    "  <price>39.95</price>\n",
    "</book>\n",
    "\n",
    "</bookstore>\n",
    "'''"
   ]
  },
  {
   "cell_type": "code",
   "execution_count": 26,
   "metadata": {},
   "outputs": [],
   "source": [
    "tree = etree.HTML(html)"
   ]
  },
  {
   "cell_type": "code",
   "execution_count": 14,
   "metadata": {},
   "outputs": [
    {
     "name": "stdout",
     "output_type": "stream",
     "text": [
      "['计欣茹早日找到男朋友']\n",
      "['计欣茹早日结婚']\n"
     ]
    }
   ],
   "source": [
    "book = tree.xpath('//book')\n",
    "for i in book:\n",
    "    q = i.xpath('./title/text()')\n",
    "    print(q)"
   ]
  },
  {
   "cell_type": "code",
   "execution_count": 24,
   "metadata": {},
   "outputs": [
    {
     "data": {
      "text/plain": [
       "['www.baidu.com']"
      ]
     },
     "execution_count": 24,
     "metadata": {},
     "output_type": "execute_result"
    }
   ],
   "source": [
    "tree.xpath('//book/a/@href')"
   ]
  },
  {
   "cell_type": "code",
   "execution_count": 40,
   "metadata": {},
   "outputs": [
    {
     "name": "stdout",
     "output_type": "stream",
     "text": [
      "/s?wd=q&pn=10&oq=q&ie=utf-8&usm=1&rsv_idx=1&rsv_pq=ead1066300048531&rsv_t=aeda8%2F6ctdY135iZjRPjH4JBV69V8pkCnYf9xZK1cdyV1f0xX2f6UVlFfR0\n",
      "/s?wd=q&pn=20&oq=q&ie=utf-8&usm=1&rsv_idx=1&rsv_pq=ead1066300048531&rsv_t=aeda8%2F6ctdY135iZjRPjH4JBV69V8pkCnYf9xZK1cdyV1f0xX2f6UVlFfR0\n",
      "/s?wd=q&pn=30&oq=q&ie=utf-8&usm=1&rsv_idx=1&rsv_pq=ead1066300048531&rsv_t=aeda8%2F6ctdY135iZjRPjH4JBV69V8pkCnYf9xZK1cdyV1f0xX2f6UVlFfR0\n",
      "/s?wd=q&pn=40&oq=q&ie=utf-8&usm=1&rsv_idx=1&rsv_pq=ead1066300048531&rsv_t=aeda8%2F6ctdY135iZjRPjH4JBV69V8pkCnYf9xZK1cdyV1f0xX2f6UVlFfR0\n",
      "/s?wd=q&pn=50&oq=q&ie=utf-8&usm=1&rsv_idx=1&rsv_pq=ead1066300048531&rsv_t=aeda8%2F6ctdY135iZjRPjH4JBV69V8pkCnYf9xZK1cdyV1f0xX2f6UVlFfR0\n",
      "/s?wd=q&pn=60&oq=q&ie=utf-8&usm=1&rsv_idx=1&rsv_pq=ead1066300048531&rsv_t=aeda8%2F6ctdY135iZjRPjH4JBV69V8pkCnYf9xZK1cdyV1f0xX2f6UVlFfR0\n",
      "/s?wd=q&pn=70&oq=q&ie=utf-8&usm=1&rsv_idx=1&rsv_pq=ead1066300048531&rsv_t=aeda8%2F6ctdY135iZjRPjH4JBV69V8pkCnYf9xZK1cdyV1f0xX2f6UVlFfR0\n",
      "/s?wd=q&pn=80&oq=q&ie=utf-8&usm=1&rsv_idx=1&rsv_pq=ead1066300048531&rsv_t=aeda8%2F6ctdY135iZjRPjH4JBV69V8pkCnYf9xZK1cdyV1f0xX2f6UVlFfR0\n",
      "/s?wd=q&pn=90&oq=q&ie=utf-8&usm=1&rsv_idx=1&rsv_pq=ead1066300048531&rsv_t=aeda8%2F6ctdY135iZjRPjH4JBV69V8pkCnYf9xZK1cdyV1f0xX2f6UVlFfR0\n",
      "/s?wd=q&pn=10&oq=q&ie=utf-8&usm=1&rsv_idx=1&rsv_pq=ead1066300048531&rsv_t=aeda8%2F6ctdY135iZjRPjH4JBV69V8pkCnYf9xZK1cdyV1f0xX2f6UVlFfR0&rsv_page=1\n"
     ]
    }
   ],
   "source": [
    "import requests\n",
    "from lxml import etree\n",
    "q = requests.get('http://www.baidu.com/s?ie=utf-8&f=8&rsv_bp=1&rsv_idx=1&tn=baidu&wd=q&oq=q&rsv_pq=84a96e6f00030b3e&rsv_t=1d87dvlv%2Bz4bpCwej4i38iO8ZIKYwujzz92i9Pmr42ePXxLYYx6uoH0Luqo&rqlang=cn&rsv_enter=0&rsv_sug=9')\n",
    "tree = etree.HTML(q.text)\n",
    "book = tree.xpath('//div[@id=\"page\"]/a')\n",
    "for i in book:\n",
    "    w = i.xpath('./@href')[0]\n",
    "    print(w)"
   ]
  },
  {
   "cell_type": "code",
   "execution_count": 38,
   "metadata": {},
   "outputs": [
    {
     "name": "stdout",
     "output_type": "stream",
     "text": [
      "['/\" id=\"result_logo\" onmousedown=\"return c({\\'fm\\':\\'tab\\',\\'tab\\':\\'logo\\'})\"', 'javascript:;\" name=\"ime_hw\"', 'javascript:;\" name=\"ime_py\"', 'javascript:;\" name=\"ime_cl\"', 'javascript:;\" name=\"tj_settingicon\" class=\"pf\"', 'https://passport.baidu.com/v2/?login&tpl=mn&u=http%3A%2F%2Fwww.baidu.com%2F&sms=5\" name=\"tj_login\" class=\"lb\" onclick=\"return false;\"', 'http://news.baidu.com\" name=\"tj_trnews\" class=\"mnav\"', 'https://www.hao123.com\" name=\"tj_trhao123\" class=\"mnav\"', 'http://map.baidu.com\" name=\"tj_trmap\" class=\"mnav\"', 'http://v.baidu.com\" name=\"tj_trvideo\" class=\"mnav\"', 'http://tieba.baidu.com\" name=\"tj_trtieba\" class=\"mnav\"', 'http://xueshu.baidu.com\" name=\"tj_trxueshu\" class=\"mnav\"', 'https://passport.baidu.com/v2/?login&tpl=mn&u=http%3A%2F%2Fwww.baidu.com%2F&sms=5\" name=\"tj_login\" class=\"lb\" onclick=\"return false;\"', 'http://www.baidu.com/gaoji/preferences.html\" name=\"tj_settingicon\" class=\"pf\"', 'http://www.baidu.com/more/\" name=\"tj_briicon\" class=\"bri\" style=\"display: block;\"', 'http://news.baidu.com/ns?cl=2&rn=20&tn=news&word=q\" wdfield=\"word\"  onmousedown=\"return c({\\'fm\\':\\'tab\\',\\'tab\\':\\'news\\'})\" sync=\"true\"', 'http://tieba.baidu.com/f?fr=wwwt&kw=q\" wdfield=\"kw\"  onmousedown=\"return c({\\'fm\\':\\'tab\\',\\'tab\\':\\'tieba\\'})\" ', 'http://zhidao.baidu.com/q?ct=17&pn=0&tn=ikaslist&rn=10&fr=wwwt&word=q\" wdfield=\"word\"  onmousedown=\"return c({\\'fm\\':\\'tab\\',\\'tab\\':\\'zhidao\\'})\" ', 'http://music.baidu.com/search?fr=ps&ie=utf-8&key=q\" wdfield=\"key\"  onmousedown=\"return c({\\'fm\\':\\'tab\\',\\'tab\\':\\'music\\'})\" ', 'http://image.baidu.com/i?tn=baiduimage&ps=1&ct=201326592&lm=-1&cl=2&nc=1&ie=utf-8&word=q\" wdfield=\"word\"  onmousedown=\"return c({\\'fm\\':\\'tab\\',\\'tab\\':\\'pic\\'})\" ', 'http://v.baidu.com/v?ct=301989888&rn=20&pn=0&db=0&s=25&ie=utf-8&word=q\" wdfield=\"word\"  onmousedown=\"return c({\\'fm\\':\\'tab\\',\\'tab\\':\\'video\\'})\" ', 'http://map.baidu.com/m?fr=ps01000&word=q\" wdfield=\"word\"  onmousedown=\"return c({\\'fm\\':\\'tab\\',\\'tab\\':\\'map\\'})\" ', 'http://wenku.baidu.com/search?lm=0&od=0&ie=utf-8&word=q\" wdfield=\"word\"  onmousedown=\"return c({\\'fm\\':\\'tab\\',\\'tab\\':\\'wenku\\'})\" ', 'http://www.baidu.com/more/\"  onmousedown=\"return c({\\'fm\\':\\'tab\\',\\'tab\\':\\'more\\'})\" ', 'http://www.baidu.com/tools?url=http%3A%2F%2Fwww.baidu.com%2Flink%3Furl%3D1bgYBA-zqYLHG4yd7RhHOHauCDLJg5G1-ebfOUWqiQW&jump=http%3A%2F%2Fkoubei.baidu.com%2Fp%2Fsentry%3Ftitle%3D%01%E7%99%BB%E5%BD%95%01QQ%01%E9%82%AE%E7%AE%B1%01%26q%3Dq%26from%3Dps_pc4&key=surl\" target=\"_blank\" class=\"m\" data-click=\"{\\'rsv_comments\\':\\'1\\'}\" data-from=\"ps_pc4\"', 'http://www.baidu.com/tools?url=http%3A%2F%2Fwww.baidu.com%2Flink%3Furl%3DPNI7DzKjZgPZT2ETPTWUh89G0C3m0KNrYJnWBVFxGzS&jump=http%3A%2F%2Fkoubei.baidu.com%2Fp%2Fsentry%3Ftitle%3D%02Q%03%E5%8F%8B%01%E4%B9%90%E5%9B%AD%01-%01%E4%B8%93%E6%B3%A8%01%E5%88%86%E4%BA%AB%01QQ%01%E4%B8%AA%E6%80%A7%01%E7%AD%BE%E5%90%8D%01%2C%01QQ%01%E5%A4%B4%E5%83%8F%01%2C%01QQ%01%E7%BD%91%E5%90%8D%01%2C%01QQ%01%E5%88%86%E7%BB%84%01%E7%AD%89%01%E4%B8%AA%E6%80%A7%01%E5%86%85%E5%AE%B9%01%26q%3Dq%26from%3Dps_pc4&key=surl\" target=\"_blank\" class=\"m\" data-click=\"{\\'rsv_comments\\':\\'1\\'}\" data-from=\"ps_pc4\"', 'http://www.baidu.com/tools?url=http%3A%2F%2Fwww.baidu.com%2Flink%3Furl%3D8FtCqdIobDfKqS0fpPdtR7bS8NVyFzj4iyr6rsWIkfq&jump=http%3A%2F%2Fkoubei.baidu.com%2Fp%2Fsentry%3Ftitle%3D%01I%01%27%01m%01%20%01QQ%01%20%01-%01%20%01%E6%AF%8F%01%E4%B8%80%E5%A4%A9%01%2C%01%E4%B9%90%01%E5%9C%A8%01%E6%B2%9F%E9%80%9A%01%26q%3Dq%26from%3Dps_pc4&key=surl\" target=\"_blank\" class=\"m\" data-click=\"{\\'rsv_comments\\':\\'1\\'}\" data-from=\"ps_pc4\"', 'http://www.baidu.com/link?url=oBAKfpIhVBDwSNwOsD_fiiIR8NYf8LGvG1nxPh8pOsvbeagPox08kl29XRvgfVmN0pb6wHo9q2uQhYJ-5keJ5q\" target=\"_blank\"', 'http://www.baidu.com/link?url=oBAKfpIhVBDwSNwOsD_fiiIR8NYf8LGvG1nxPh8pOsvbeagPox08kl29XRvgfVmN0pb6wHo9q2uQhYJ-5keJ5q\" target=\"_blank\" class=\"op-bk-polysemy-album op-se-listen-recommend\" style=\"_height:141px\"', 'https://www.baidu.com/s?wd=%E6%B7%B1%E5%9C%B3%E5%B8%82%E8%85%BE%E8%AE%AF%E8%AE%A1%E7%AE%97%E6%9C%BA%E7%B3%BB%E7%BB%9F%E6%9C%89%E9%99%90%E5%85%AC%E5%8F%B8@v&vmp_ec=1d4fe5656f511e036f0fed0fXS=2Xyesbf3ac09529jcxbe1f15d3d3d5J8122e391e643da&vmp_ectm=1528871085&from=vs&product=v&rsv_dl=0_left_v_3\" class=\"c-icon c-icon-v c-icon-v3\" target=\"_blank\" data-click=\"{\\'title\\':\\'vstar\\',\\'rsv_vlevel\\':\\'3\\'}\" ', 'http://www.baidu.com/tools?url=http%3A%2F%2Fwww.baidu.com%2Flink%3Furl%3DYlcb7iTyBZJu9a-FlFt1O0L7t4cIDWH9qZYtKADShPS&jump=http%3A%2F%2Fkoubei.baidu.com%2Fp%2Fsentry%3Ftitle%3D%01%E8%85%BE%E8%AE%AF%01%E9%A6%96%E9%A1%B5%01%26q%3Dq%26from%3Dps_pc4&key=surl\" target=\"_blank\" class=\"m\" data-click=\"{\\'rsv_comments\\':\\'1\\'}\" data-from=\"ps_pc4\"', 'http://www.baidu.com/tools?url=http%3A%2F%2Fwww.baidu.com%2Flink%3Furl%3DZz81_Zydz9twxfn-ZAIwROIbns2_qHprx59C9fE7rOLa_vY4iUTeVmK7gLDi6h6F&jump=http%3A%2F%2Fkoubei.baidu.com%2Fp%2Fsentry%3Ftitle%3D%01QQ%01%20%01PC%01%E7%89%88%01%E5%AE%98%E6%96%B9%01%E7%BD%91%E7%AB%99%01%26q%3Dq%26from%3Dps_pc4&key=surl\" target=\"_blank\" class=\"m\" data-click=\"{\\'rsv_comments\\':\\'1\\'}\" data-from=\"ps_pc4\"', 'http://www.baidu.com/link?url=JqhXY3DgiHH94tkE5J3lb1jS5zHcvnn658Y6ILjd8nAUM8QtmpifeSS5QYc68lJEVziQdClN0xgnv4Bo_GHZ2_\" target=\"_blank\"', 'http://www.baidu.com/link?url=zRdm50ShWNuHRh11Ygt5kOASBYUbgPEr_zCRiIYHOHws_1CKNPuffdhpmp3BTsAW306g7fCyTKMmFazornlWlfAUXtJThsrFxNBdN-Iy847\" target=\"_blank\"', 'http://www.baidu.com/link?url=oBAKfpIhVBDwSNwOsD_fim9hprSkk4ZSXelRozQjKdTr1q4Ah1gn9Omcy_yQm0gK7Ia502sxF-jRe48lS32g1q\" target=\"_blank\"', 'http://www.baidu.com/link?url=3rWRW49f5iyjX5UKF0l9XOmTQ-pv38fOy4Vnr0dii1s0Qi_edNGu2bC6pEkyedG5JA29nkfA1gJr4z2DH1w1kaR3ouHuBZ6SlzZbsafzzjy\" target=\"_blank\" class=\"c\"', 'http://www.baidu.com/tools?url=http%3A%2F%2Fwww.baidu.com%2Flink%3Furl%3DpvrTKERM_88pHW-Gm7YNNII_pxNuD-irqOFTvnLQemq&jump=http%3A%2F%2Fkoubei.baidu.com%2Fp%2Fsentry%3Ftitle%3D%01%E9%A6%96%E9%A1%B5%01-%01%20%01%E8%85%BE%E8%AE%AF%01%E5%85%85%E5%80%BC%01%E4%B8%AD%E5%BF%83%01%26q%3Dq%26from%3Dps_pc4&key=surl\" target=\"_blank\" class=\"m\" data-click=\"{\\'rsv_comments\\':\\'1\\'}\" data-from=\"ps_pc4\"', 'http://www.baidu.com/link?url=Xqhd_4cVBfaem2GXQYe_dIEteB4kZq5NglbmhoTiVUv724tAbGM_FrTe9hGx7o1plwkFbOl-0UZjOXdXpB6a4DsHN_AwSlfnRHzJZKdYhUa\" target=\"_blank\"', 'http://www.baidu.com/link?url=Xqhd_4cVBfaem2GXQYe_dIEteB4kZq5NglbmhoTiVUv724tAbGM_FrTe9hGx7o1plwkFbOl-0UZjOXdXpB6a4DsHN_AwSlfnRHzJZKdYhUa\" target=\"_blank\" class=\"op-bk-polysemy-album op-se-listen-recommend\" style=\"_height:121px\"', '/s?wd=q%E5%B8%81%E5%85%85%E5%80%BC%E4%B8%AD%E5%BF%83&rsf=1&rsp=0&f=1&oq=q&ie=utf-8&usm=1&rsv_idx=1&rsv_pq=e2be269e0003543b&rsv_t=4273P83QceIDTAqbNYL4VjSS7EE9nhi38lN8cuJQNB1Y4cf0TuZ0%2B82IpO4&rqlang=cn&rs_src=0&rsv_pq=e2be269e0003543b&rsv_t=4273P83QceIDTAqbNYL4VjSS7EE9nhi38lN8cuJQNB1Y4cf0TuZ0%2B82IpO4\"', '/s?wd=q%E5%B8%81%E6%9C%89%E4%BB%80%E4%B9%88%E7%94%A8&rsf=1&rsp=1&f=1&oq=q&ie=utf-8&usm=1&rsv_idx=1&rsv_pq=e2be269e0003543b&rsv_t=4273P83QceIDTAqbNYL4VjSS7EE9nhi38lN8cuJQNB1Y4cf0TuZ0%2B82IpO4&rqlang=cn&rs_src=0&rsv_pq=e2be269e0003543b&rsv_t=4273P83QceIDTAqbNYL4VjSS7EE9nhi38lN8cuJQNB1Y4cf0TuZ0%2B82IpO4\"', '/s?wd=q%E5%BC%80%E5%A4%B4%E7%9A%84%E5%8D%95%E8%AF%8D&rsf=1&rsp=2&f=1&oq=q&ie=utf-8&usm=1&rsv_idx=1&rsv_pq=e2be269e0003543b&rsv_t=4273P83QceIDTAqbNYL4VjSS7EE9nhi38lN8cuJQNB1Y4cf0TuZ0%2B82IpO4&rqlang=cn&rs_src=0&rsv_pq=e2be269e0003543b&rsv_t=4273P83QceIDTAqbNYL4VjSS7EE9nhi38lN8cuJQNB1Y4cf0TuZ0%2B82IpO4\"', '/s?wd=%E8%85%BE%E8%AE%AF%E6%A1%8C%E9%9D%A2%E4%B8%8B%E8%BD%BD%E5%AE%89%E8%A3%85&rsf=8&rsp=3&f=1&oq=q&ie=utf-8&usm=1&rsv_idx=1&rsv_pq=e2be269e0003543b&rsv_t=4273P83QceIDTAqbNYL4VjSS7EE9nhi38lN8cuJQNB1Y4cf0TuZ0%2B82IpO4&rqlang=cn&rs_src=1&rsv_pq=e2be269e0003543b&rsv_t=4273P83QceIDTAqbNYL4VjSS7EE9nhi38lN8cuJQNB1Y4cf0TuZ0%2B82IpO4\"', '/s?wd=%E6%8B%BC%E9%9F%B3q&rsf=1&rsp=4&f=1&oq=q&ie=utf-8&usm=1&rsv_idx=1&rsv_pq=e2be269e0003543b&rsv_t=4273P83QceIDTAqbNYL4VjSS7EE9nhi38lN8cuJQNB1Y4cf0TuZ0%2B82IpO4&rqlang=cn&rs_src=0&rsv_pq=e2be269e0003543b&rsv_t=4273P83QceIDTAqbNYL4VjSS7EE9nhi38lN8cuJQNB1Y4cf0TuZ0%2B82IpO4\"', '/s?wd=q%E6%80%8E%E4%B9%88%E8%AF%BB&rsf=1&rsp=5&f=1&oq=q&ie=utf-8&usm=1&rsv_idx=1&rsv_pq=e2be269e0003543b&rsv_t=4273P83QceIDTAqbNYL4VjSS7EE9nhi38lN8cuJQNB1Y4cf0TuZ0%2B82IpO4&rqlang=cn&rs_src=0&rsv_pq=e2be269e0003543b&rsv_t=4273P83QceIDTAqbNYL4VjSS7EE9nhi38lN8cuJQNB1Y4cf0TuZ0%2B82IpO4\"', '/s?wd=q%E6%80%8E%E4%B9%88%E5%86%99&rsf=1&rsp=6&f=1&oq=q&ie=utf-8&usm=1&rsv_idx=1&rsv_pq=e2be269e0003543b&rsv_t=4273P83QceIDTAqbNYL4VjSS7EE9nhi38lN8cuJQNB1Y4cf0TuZ0%2B82IpO4&rqlang=cn&rs_src=0&rsv_pq=e2be269e0003543b&rsv_t=4273P83QceIDTAqbNYL4VjSS7EE9nhi38lN8cuJQNB1Y4cf0TuZ0%2B82IpO4\"', '/s?wd=q%E7%9A%84%E9%9F%B3%E6%A0%87&rsf=1&rsp=7&f=1&oq=q&ie=utf-8&usm=1&rsv_idx=1&rsv_pq=e2be269e0003543b&rsv_t=4273P83QceIDTAqbNYL4VjSS7EE9nhi38lN8cuJQNB1Y4cf0TuZ0%2B82IpO4&rqlang=cn&rs_src=0&rsv_pq=e2be269e0003543b&rsv_t=4273P83QceIDTAqbNYL4VjSS7EE9nhi38lN8cuJQNB1Y4cf0TuZ0%2B82IpO4\"', '/s?wd=q%E7%9A%84%E7%AC%94%E9%A1%BA&rsf=1&rsp=8&f=1&oq=q&ie=utf-8&usm=1&rsv_idx=1&rsv_pq=e2be269e0003543b&rsv_t=4273P83QceIDTAqbNYL4VjSS7EE9nhi38lN8cuJQNB1Y4cf0TuZ0%2B82IpO4&rqlang=cn&rs_src=0&rsv_pq=e2be269e0003543b&rsv_t=4273P83QceIDTAqbNYL4VjSS7EE9nhi38lN8cuJQNB1Y4cf0TuZ0%2B82IpO4\"', '/s?wd=q&pn=10&oq=q&ie=utf-8&usm=1&rsv_idx=1&rsv_pq=e2be269e0003543b&rsv_t=4273P83QceIDTAqbNYL4VjSS7EE9nhi38lN8cuJQNB1Y4cf0TuZ0%2B82IpO4\"', '/s?wd=q&pn=20&oq=q&ie=utf-8&usm=1&rsv_idx=1&rsv_pq=e2be269e0003543b&rsv_t=4273P83QceIDTAqbNYL4VjSS7EE9nhi38lN8cuJQNB1Y4cf0TuZ0%2B82IpO4\"', '/s?wd=q&pn=30&oq=q&ie=utf-8&usm=1&rsv_idx=1&rsv_pq=e2be269e0003543b&rsv_t=4273P83QceIDTAqbNYL4VjSS7EE9nhi38lN8cuJQNB1Y4cf0TuZ0%2B82IpO4\"', '/s?wd=q&pn=40&oq=q&ie=utf-8&usm=1&rsv_idx=1&rsv_pq=e2be269e0003543b&rsv_t=4273P83QceIDTAqbNYL4VjSS7EE9nhi38lN8cuJQNB1Y4cf0TuZ0%2B82IpO4\"', '/s?wd=q&pn=50&oq=q&ie=utf-8&usm=1&rsv_idx=1&rsv_pq=e2be269e0003543b&rsv_t=4273P83QceIDTAqbNYL4VjSS7EE9nhi38lN8cuJQNB1Y4cf0TuZ0%2B82IpO4\"', '/s?wd=q&pn=60&oq=q&ie=utf-8&usm=1&rsv_idx=1&rsv_pq=e2be269e0003543b&rsv_t=4273P83QceIDTAqbNYL4VjSS7EE9nhi38lN8cuJQNB1Y4cf0TuZ0%2B82IpO4\"', '/s?wd=q&pn=70&oq=q&ie=utf-8&usm=1&rsv_idx=1&rsv_pq=e2be269e0003543b&rsv_t=4273P83QceIDTAqbNYL4VjSS7EE9nhi38lN8cuJQNB1Y4cf0TuZ0%2B82IpO4\"', '/s?wd=q&pn=80&oq=q&ie=utf-8&usm=1&rsv_idx=1&rsv_pq=e2be269e0003543b&rsv_t=4273P83QceIDTAqbNYL4VjSS7EE9nhi38lN8cuJQNB1Y4cf0TuZ0%2B82IpO4\"', '/s?wd=q&pn=90&oq=q&ie=utf-8&usm=1&rsv_idx=1&rsv_pq=e2be269e0003543b&rsv_t=4273P83QceIDTAqbNYL4VjSS7EE9nhi38lN8cuJQNB1Y4cf0TuZ0%2B82IpO4\"', '/s?wd=q&pn=10&oq=q&ie=utf-8&usm=1&rsv_idx=1&rsv_pq=e2be269e0003543b&rsv_t=4273P83QceIDTAqbNYL4VjSS7EE9nhi38lN8cuJQNB1Y4cf0TuZ0%2B82IpO4&rsv_page=1\" class=\"n\"', 'http://help.baidu.com/question\" target=\"_blank\" onmousedown=\"return c({\\'fm\\':\\'behb\\',\\'tab\\':\\'help\\',\\'url\\':this.href,\\'title\\':this.innerHTML})\"', 'http://www.baidu.com/search/jubao.html\" target=\"_blank\" onmousedown=\"return c({\\'fm\\':\\'behb\\',\\'tab\\':\\'jubao\\',\\'url\\':this.href,\\'title\\':this.innerHTML})\"']\n"
     ]
    }
   ],
   "source": [
    "import re\n",
    "import requests\n",
    "q = requests.get('http://www.baidu.com/s?ie=utf-8&f=8&rsv_bp=1&rsv_idx=1&tn=baidu&wd=q&oq=q&rsv_pq=84a96e6f00030b3e&rsv_t=1d87dvlv%2Bz4bpCwej4i38iO8ZIKYwujzz92i9Pmr42ePXxLYYx6uoH0Luqo&rqlang=cn&rsv_enter=0&rsv_sug=9')\n",
    "w = re.compile('<a\\shref=\"(.*?)>',re.S)\n",
    "e = re.findall(w,q.text)\n",
    "print(e)"
   ]
  },
  {
   "cell_type": "code",
   "execution_count": 28,
   "metadata": {},
   "outputs": [
    {
     "name": "stdout",
     "output_type": "stream",
     "text": [
      "['/chapter/2822387/35019039.html']\n"
     ]
    }
   ],
   "source": [
    "import requests\n",
    "from lxml import etree\n",
    "q = requests.get('http://www.17k.com/list/2822387.html')\n",
    "tree = etree.HTML(q.text)\n",
    "book = tree.xpath('//div[@class=\"Main List\"]/dl[@class=\"Volume\"][1]/dd/a')\n",
    "for i in book:\n",
    "    w = i.xpath('./@href')\n",
    "    print(w)\n",
    "    break"
   ]
  },
  {
   "cell_type": "code",
   "execution_count": 23,
   "metadata": {},
   "outputs": [],
   "source": [
    "import requests\n",
    "from lxml import etree\n",
    "s = 0\n",
    "q = requests.get('http://www.17k.com/list/2822387.html')\n",
    "tree = etree.HTML(q.text)\n",
    "book = tree.xpath('//div[@class=\"Main List\"]/dl[@class=\"Volume\"][1]/dd/a')\n",
    "for i in book:\n",
    "    w = i.xpath('./@href')[0]\n",
    "    hrl = requests.get('http://www.17k.com'+w)\n",
    "    s = s+1\n",
    "    tree1 = etree.HTML(hrl.text)\n",
    "    e = tree1.xpath('//body/div[@class=\"area\"]/div[@class=\"read\"]/div[2]/div[1]/div[@class=\"p\"]/text()')\n",
    "    d = str(e)\n",
    "    with open('C:/Users/刘钰/Desktop/小说/asd'+str(s)+'.txt','w',encoding='utf-8') as f:\n",
    "        f.write(d)"
   ]
  },
  {
   "cell_type": "code",
   "execution_count": null,
   "metadata": {},
   "outputs": [],
   "source": []
  },
  {
   "cell_type": "code",
   "execution_count": null,
   "metadata": {},
   "outputs": [],
   "source": []
  },
  {
   "cell_type": "code",
   "execution_count": null,
   "metadata": {},
   "outputs": [],
   "source": []
  }
 ],
 "metadata": {
  "kernelspec": {
   "display_name": "Python 3",
   "language": "python",
   "name": "python3"
  },
  "language_info": {
   "codemirror_mode": {
    "name": "ipython",
    "version": 3
   },
   "file_extension": ".py",
   "mimetype": "text/x-python",
   "name": "python",
   "nbconvert_exporter": "python",
   "pygments_lexer": "ipython3",
   "version": "3.6.4"
  }
 },
 "nbformat": 4,
 "nbformat_minor": 2
}
