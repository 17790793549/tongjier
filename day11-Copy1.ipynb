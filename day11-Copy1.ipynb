{
 "cells": [
  {
   "cell_type": "markdown",
   "metadata": {},
   "source": [
    "# 正则表达式"
   ]
  },
  {
   "cell_type": "code",
   "execution_count": 1,
   "metadata": {},
   "outputs": [],
   "source": [
    "import re"
   ]
  },
  {
   "cell_type": "markdown",
   "metadata": {},
   "source": [
    "# re.match\n",
    "re.match 尝试从字符串的起始位置匹配每一个模式，如果不是起始位置匹配成功的话，match()返回none，不常用"
   ]
  },
  {
   "cell_type": "markdown",
   "metadata": {},
   "source": [
    "re.match(pattern,string,flags=0)"
   ]
  },
  {
   "cell_type": "markdown",
   "metadata": {},
   "source": [
    "## 最常规的匹配"
   ]
  },
  {
   "cell_type": "code",
   "execution_count": 5,
   "metadata": {},
   "outputs": [
    {
     "data": {
      "text/plain": [
       "'Hello 123 4567 World_This is a Regex Demo'"
      ]
     },
     "execution_count": 5,
     "metadata": {},
     "output_type": "execute_result"
    }
   ],
   "source": [
    "import re\n",
    "content = 'Hello 123 4567 World_This is a Regex Demo'\n",
    "test = re.match('^Hello\\s\\d{3}\\s\\d{4}\\s\\w{10}.*',content)\n",
    "test.group()"
   ]
  },
  {
   "cell_type": "markdown",
   "metadata": {},
   "source": [
    "## 泛匹配 .*"
   ]
  },
  {
   "cell_type": "code",
   "execution_count": 7,
   "metadata": {},
   "outputs": [
    {
     "data": {
      "text/plain": [
       "<_sre.SRE_Match object; span=(0, 41), match='Hello 123 4567 World_This is a Regex Demo'>"
      ]
     },
     "execution_count": 7,
     "metadata": {},
     "output_type": "execute_result"
    }
   ],
   "source": [
    "import re\n",
    "content = 'Hello 123 4567 World_This is a Regex Demo'\n",
    "result = re.match('^H.*',content)\n",
    "result"
   ]
  },
  {
   "cell_type": "code",
   "execution_count": 8,
   "metadata": {},
   "outputs": [
    {
     "data": {
      "text/plain": [
       "<_sre.SRE_Match object; span=(0, 19), match='Joker is a good man'>"
      ]
     },
     "execution_count": 8,
     "metadata": {},
     "output_type": "execute_result"
    }
   ],
   "source": [
    "import re\n",
    "content = 'Joker is a good man'\n",
    "re.match('^J.*',content)"
   ]
  },
  {
   "cell_type": "markdown",
   "metadata": {},
   "source": [
    "# 匹配目标（）\n",
    "\n",
    "group() ()里数字是几就是提取第几个()里的内容 不写数字就是全部提取"
   ]
  },
  {
   "cell_type": "code",
   "execution_count": 15,
   "metadata": {},
   "outputs": [
    {
     "name": "stdout",
     "output_type": "stream",
     "text": [
      "4567\n",
      "Regex\n",
      "Hello 123 4567 World_This is a Regex\n"
     ]
    }
   ],
   "source": [
    "import re\n",
    "content = 'Hello 123 4567 World_This is a Regex Demo'\n",
    "result = re.match('^Hello\\s\\d{3}\\s(\\d{4})\\s.*a\\s(\\w+)',content)\n",
    "print(result.group(1))\n",
    "print(result.group(2))\n",
    "print(result.group())"
   ]
  },
  {
   "cell_type": "code",
   "execution_count": 19,
   "metadata": {},
   "outputs": [
    {
     "name": "stdout",
     "output_type": "stream",
     "text": [
      "213\n",
      "123\n"
     ]
    }
   ],
   "source": [
    "import re\n",
    "content = 'Joker is 213 a bad 123 man and hahah'\n",
    "result = re.match('^Joker\\s\\w{2}\\s(\\d{3})\\s\\w\\s\\w{3}\\s(\\d{3})',content)\n",
    "print(result.group(1))\n",
    "print(result.group(2))"
   ]
  },
  {
   "cell_type": "code",
   "execution_count": 23,
   "metadata": {},
   "outputs": [
    {
     "data": {
      "text/plain": [
       "'7'"
      ]
     },
     "execution_count": 23,
     "metadata": {},
     "output_type": "execute_result"
    }
   ],
   "source": [
    "import re\n",
    "content = 'Hello 1234567 World_This is a Regex Demo'\n",
    "re.match('^Hello.*(\\d+)',content).group(1)"
   ]
  },
  {
   "cell_type": "code",
   "execution_count": 24,
   "metadata": {},
   "outputs": [
    {
     "data": {
      "text/plain": [
       "'1234567'"
      ]
     },
     "execution_count": 24,
     "metadata": {},
     "output_type": "execute_result"
    }
   ],
   "source": [
    "import re\n",
    "content = 'Hello 1234567 World_This is a Regex Demo'\n",
    "re.match('^Hello.*?(\\d+)',content).group(1)"
   ]
  },
  {
   "cell_type": "code",
   "execution_count": 28,
   "metadata": {},
   "outputs": [
    {
     "data": {
      "text/plain": [
       "'345'"
      ]
     },
     "execution_count": 28,
     "metadata": {},
     "output_type": "execute_result"
    }
   ],
   "source": [
    "import re\n",
    "content = 'Hello 1234567 Joker good'\n",
    "re.match('^Hello\\s\\d{2}(\\d{3})',content).group(1)"
   ]
  },
  {
   "cell_type": "code",
   "execution_count": 29,
   "metadata": {},
   "outputs": [
    {
     "data": {
      "text/plain": [
       "'345'"
      ]
     },
     "execution_count": 29,
     "metadata": {},
     "output_type": "execute_result"
    }
   ],
   "source": [
    "import re\n",
    "content = 'Hello 1234567 Joker good'\n",
    "re.match('^Hello.*2(\\d{3})',content).group(1)"
   ]
  },
  {
   "cell_type": "code",
   "execution_count": 30,
   "metadata": {},
   "outputs": [
    {
     "data": {
      "text/plain": [
       "'345'"
      ]
     },
     "execution_count": 30,
     "metadata": {},
     "output_type": "execute_result"
    }
   ],
   "source": [
    "import re\n",
    "content = 'Hello 1234567 Joker good'\n",
    "re.match('^H.*?2(\\d+)6',content).group(1)"
   ]
  },
  {
   "cell_type": "code",
   "execution_count": 32,
   "metadata": {},
   "outputs": [
    {
     "data": {
      "text/plain": [
       "<_sre.SRE_Match object; span=(0, 41), match='Hello 1234567 World_This \\nis a Regex Demo'>"
      ]
     },
     "execution_count": 32,
     "metadata": {},
     "output_type": "execute_result"
    }
   ],
   "source": [
    "import re\n",
    "content = '''Hello 1234567 World_This \n",
    "is a Regex Demo'''\n",
    "re.match('^Hello.*',content,re.S)"
   ]
  },
  {
   "cell_type": "code",
   "execution_count": 33,
   "metadata": {},
   "outputs": [
    {
     "data": {
      "text/plain": [
       "<_sre.SRE_Match object; span=(0, 14), match='price is $5.00'>"
      ]
     },
     "execution_count": 33,
     "metadata": {},
     "output_type": "execute_result"
    }
   ],
   "source": [
    "import re\n",
    "content = 'price is $5.00'\n",
    "re.match('^p.*',content)"
   ]
  },
  {
   "cell_type": "code",
   "execution_count": 35,
   "metadata": {},
   "outputs": [
    {
     "data": {
      "text/plain": [
       "'5.00'"
      ]
     },
     "execution_count": 35,
     "metadata": {},
     "output_type": "execute_result"
    }
   ],
   "source": [
    "import re\n",
    "content = 'price is $5.00'\n",
    "re.match('^p.*\\$(\\d+\\.\\d+)',content).group(1)"
   ]
  },
  {
   "cell_type": "code",
   "execution_count": 36,
   "metadata": {},
   "outputs": [
    {
     "data": {
      "text/plain": [
       "'5.0d0s123+'"
      ]
     },
     "execution_count": 36,
     "metadata": {},
     "output_type": "execute_result"
    }
   ],
   "source": [
    "import re\n",
    "content = 'price is $5.0d0s123+'\n",
    "re.match('^p.*\\$(\\d+\\.\\d+\\w\\d\\w\\d{3}\\D)',content).group(1)"
   ]
  },
  {
   "cell_type": "code",
   "execution_count": 40,
   "metadata": {},
   "outputs": [
    {
     "data": {
      "text/plain": [
       "'Extra sting Hello 123 4567 World_This is a Regex Demo Extra sting'"
      ]
     },
     "execution_count": 40,
     "metadata": {},
     "output_type": "execute_result"
    }
   ],
   "source": [
    "import re\n",
    "content = 'Extra sting Hello 123 4567 World_This is a Regex Demo Extra sting'\n",
    "re.search('.*',content).group()"
   ]
  },
  {
   "cell_type": "code",
   "execution_count": 43,
   "metadata": {},
   "outputs": [
    {
     "data": {
      "text/plain": [
       "'1234567'"
      ]
     },
     "execution_count": 43,
     "metadata": {},
     "output_type": "execute_result"
    }
   ],
   "source": [
    "import re\n",
    "content = 'Extra sting Hello 1234567 World_This is a Regex Demo Extra sting'\n",
    "re.search('.*o\\s(\\d+)',content).group(1)"
   ]
  },
  {
   "cell_type": "code",
   "execution_count": 54,
   "metadata": {},
   "outputs": [
    {
     "name": "stdout",
     "output_type": "stream",
     "text": [
      "手机百度\n",
      "快人一步\n",
      "百度糯米\n",
      "我的生活\n"
     ]
    }
   ],
   "source": [
    "import re\n",
    "html = '''\n",
    "</textarea></div><div id=bottom_container class=s-bottom-ctner>\n",
    "<div class=\"ftCon-Wrapper\"> <div class=qrcode-layer>\n",
    "<div class=\"qrcode-item qrcode-item-1\">\n",
    "<div class=qrcode-img></div><div class=qrcode-text>\n",
    "<p><b>手机百度</b></p ><p><span>快人一步</span></p >\n",
    "</div> </div><div class=\"qrcode-item qrcode-item-2\">\n",
    "<div class=qrcode-img></div><div class=qrcode-text>\n",
    "<p><b>百度糯米</b></p ><p><span>我的生活</span></p >\n",
    "</div> </div> </div> <div class=no-qrcode-layer>\n",
    "<div>\n",
    "<p class=lh>\n",
    "<a class=sethome href= > 设为首页 </ a></p >\n",
    "<span class=copyright-text><span>&#169;2018&nbsp;Baidu&nbsp;</span>< a href=//www.baidu.com/duty/ target=_blank>\n",
    "使用百度前必读</ a>&nbsp;\n",
    "'''\n",
    "\n",
    "q = re.search('.*<b>(\\w{4}).*<span>(\\w{4}).*<b>(\\w{4}).*<span>(\\w{4})',html,re.S)\n",
    "print(q.group(1))\n",
    "print(q.group(2))\n",
    "print(q.group(3))\n",
    "print(q.group(4))\n",
    "\n",
    "\n",
    "\n"
   ]
  },
  {
   "cell_type": "code",
   "execution_count": 73,
   "metadata": {},
   "outputs": [
    {
     "name": "stdout",
     "output_type": "stream",
     "text": [
      "//www.baidu.com/duty/\n"
     ]
    }
   ],
   "source": [
    "import re\n",
    "html = '''\n",
    "</textarea></div><div id=bottom_container class=s-bottom-ctner>\n",
    "<div class=\"ftCon-Wrapper\"> <div class=qrcode-layer>\n",
    "<div class=\"qrcode-item qrcode-item-1\">\n",
    "<div class=qrcode-img></div><div class=qrcode-text>\n",
    "<p><b>手机百度</b></p ><p><span>快人一步</span></p >\n",
    "</div> </div><div class=\"qrcode-item qrcode-item-2\">\n",
    "<div class=qrcode-img></div><div class=qrcode-text>\n",
    "<p><b>百度糯米</b></p ><p><span>我的生活</span></p >\n",
    "</div> </div> </div> <div class=no-qrcode-layer>\n",
    "<div>\n",
    "<p class=lh>\n",
    "<a class=sethome href= > 设为首页 </ a></p >\n",
    "<span class=copyright-text><span>&#169;2018&nbsp;Baidu&nbsp;</span>< a href=//www.baidu.com/duty/ target=_blank>\n",
    "使用百度前必读</ a>&nbsp;\n",
    "'''\n",
    "\n",
    "q = re.search('< a href=(.*) target=_blank',html,re.S)\n",
    "print(q.group(1))\n",
    "\n",
    "\n",
    "\n",
    "\n",
    "\n"
   ]
  },
  {
   "cell_type": "code",
   "execution_count": null,
   "metadata": {},
   "outputs": [],
   "source": [
    "import requests\n",
    "a = requests.get('http://news.baidu.com/')\n",
    "a.text\n",
    "import re\n",
    "q = a.text\n",
    "e = re.findall('<a href=(\\\".*?\\\")',q,re.S)\n",
    "print(e)"
   ]
  },
  {
   "cell_type": "code",
   "execution_count": null,
   "metadata": {},
   "outputs": [],
   "source": []
  },
  {
   "cell_type": "code",
   "execution_count": null,
   "metadata": {},
   "outputs": [],
   "source": []
  },
  {
   "cell_type": "code",
   "execution_count": null,
   "metadata": {},
   "outputs": [],
   "source": []
  },
  {
   "cell_type": "code",
   "execution_count": null,
   "metadata": {},
   "outputs": [],
   "source": []
  },
  {
   "cell_type": "code",
   "execution_count": null,
   "metadata": {},
   "outputs": [],
   "source": []
  }
 ],
 "metadata": {
  "kernelspec": {
   "display_name": "Python 3",
   "language": "python",
   "name": "python3"
  },
  "language_info": {
   "codemirror_mode": {
    "name": "ipython",
    "version": 3
   },
   "file_extension": ".py",
   "mimetype": "text/x-python",
   "name": "python",
   "nbconvert_exporter": "python",
   "pygments_lexer": "ipython3",
   "version": "3.6.4"
  }
 },
 "nbformat": 4,
 "nbformat_minor": 2
}
